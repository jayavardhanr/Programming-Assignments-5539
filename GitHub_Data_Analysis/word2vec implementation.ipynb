{
 "cells": [
  {
   "cell_type": "code",
   "execution_count": 29,
   "metadata": {
    "collapsed": true
   },
   "outputs": [],
   "source": [
    "import gensim"
   ]
  },
  {
   "cell_type": "code",
   "execution_count": 30,
   "metadata": {},
   "outputs": [
    {
     "name": "stderr",
     "output_type": "stream",
     "text": [
      "2017-10-30 01:04:12,103 : INFO : loading Word2Vec object from /Users/jayavardhanreddy/Github_Data_Files/created_w2v_ver2.model\n",
      "2017-10-30 01:04:15,877 : INFO : loading wv recursively from /Users/jayavardhanreddy/Github_Data_Files/created_w2v_ver2.model.wv.* with mmap=None\n",
      "2017-10-30 01:04:15,878 : INFO : loading syn0 from /Users/jayavardhanreddy/Github_Data_Files/created_w2v_ver2.model.wv.syn0.npy with mmap=None\n",
      "2017-10-30 01:04:16,246 : INFO : setting ignored attribute syn0norm to None\n",
      "2017-10-30 01:04:16,248 : INFO : loading syn1neg from /Users/jayavardhanreddy/Github_Data_Files/created_w2v_ver2.model.syn1neg.npy with mmap=None\n",
      "2017-10-30 01:04:16,717 : INFO : setting ignored attribute cum_table to None\n",
      "2017-10-30 01:04:16,718 : INFO : loaded /Users/jayavardhanreddy/Github_Data_Files/created_w2v_ver2.model\n"
     ]
    }
   ],
   "source": [
    "#new_model = gensim.models.Word2Vec.load('/Users/jayavardhanreddy/Github_Data_Files/created_w2v.model')\n",
    "new_model = gensim.models.Word2Vec.load('/Users/jayavardhanreddy/Github_Data_Files/created_w2v_ver2.model')"
   ]
  },
  {
   "cell_type": "code",
   "execution_count": 33,
   "metadata": {},
   "outputs": [
    {
     "data": {
      "text/plain": [
       "[('tf', 0.7168107032775879),\n",
       " ('theano', 0.6943128705024719),\n",
       " ('ntensorflow', 0.6508850455284119),\n",
       " ('caffe', 0.6411898136138916),\n",
       " ('tensorflow.', 0.636929988861084),\n",
       " ('mxnet', 0.634565532207489),\n",
       " ('deconvnet', 0.631422758102417),\n",
       " ('cuda', 0.6286333799362183),\n",
       " ('keras', 0.6242906451225281),\n",
       " ('xgboost', 0.6193305253982544)]"
      ]
     },
     "execution_count": 33,
     "metadata": {},
     "output_type": "execute_result"
    }
   ],
   "source": [
    "new_model.similar_by_vector('tensorflow')"
   ]
  },
  {
   "cell_type": "code",
   "execution_count": null,
   "metadata": {
    "collapsed": true
   },
   "outputs": [],
   "source": []
  }
 ],
 "metadata": {
  "kernelspec": {
   "display_name": "Python 3",
   "language": "python",
   "name": "python3"
  },
  "language_info": {
   "codemirror_mode": {
    "name": "ipython",
    "version": 3
   },
   "file_extension": ".py",
   "mimetype": "text/x-python",
   "name": "python",
   "nbconvert_exporter": "python",
   "pygments_lexer": "ipython3",
   "version": "3.5.4"
  }
 },
 "nbformat": 4,
 "nbformat_minor": 2
}
