{
 "cells": [
  {
   "cell_type": "code",
   "execution_count": 8,
   "metadata": {
    "collapsed": true
   },
   "outputs": [],
   "source": [
    "import gensim"
   ]
  },
  {
   "cell_type": "code",
   "execution_count": 23,
   "metadata": {},
   "outputs": [
    {
     "name": "stderr",
     "output_type": "stream",
     "text": [
      "2017-10-29 01:15:24,121 : INFO : loading Word2Vec object from /Users/jayavardhanreddy/Github_Data_Files/created_w2v_ver2.model\n",
      "2017-10-29 01:15:26,548 : INFO : loading wv recursively from /Users/jayavardhanreddy/Github_Data_Files/created_w2v_ver2.model.wv.* with mmap=None\n",
      "2017-10-29 01:15:26,549 : INFO : loading syn0 from /Users/jayavardhanreddy/Github_Data_Files/created_w2v_ver2.model.wv.syn0.npy with mmap=None\n",
      "2017-10-29 01:15:26,797 : INFO : setting ignored attribute syn0norm to None\n",
      "2017-10-29 01:15:26,798 : INFO : loading syn1neg from /Users/jayavardhanreddy/Github_Data_Files/created_w2v_ver2.model.syn1neg.npy with mmap=None\n",
      "2017-10-29 01:15:27,000 : INFO : setting ignored attribute cum_table to None\n",
      "2017-10-29 01:15:27,001 : INFO : loaded /Users/jayavardhanreddy/Github_Data_Files/created_w2v_ver2.model\n"
     ]
    }
   ],
   "source": [
    "#new_model = gensim.models.Word2Vec.load('/Users/jayavardhanreddy/Github_Data_Files/created_w2v.model')\n",
    "new_model = gensim.models.Word2Vec.load('/Users/jayavardhanreddy/Github_Data_Files/created_w2v_ver2.model')"
   ]
  },
  {
   "cell_type": "code",
   "execution_count": 26,
   "metadata": {},
   "outputs": [
    {
     "data": {
      "text/plain": [
       "[('issue', 0.7926672101020813),\n",
       " ('bug.', 0.7909775972366333),\n",
       " ('problem', 0.7354727387428284),\n",
       " ('bugs', 0.6900405883789062),\n",
       " ('issue.', 0.6718769073486328),\n",
       " ('regression.', 0.6714746952056885),\n",
       " ('defect', 0.6556994915008545),\n",
       " ('bug...', 0.626149594783783),\n",
       " ('problem.', 0.6140385270118713),\n",
       " ('typo', 0.6108068227767944)]"
      ]
     },
     "execution_count": 26,
     "metadata": {},
     "output_type": "execute_result"
    }
   ],
   "source": [
    "new_model.similar_by_vector('bug')"
   ]
  },
  {
   "cell_type": "code",
   "execution_count": null,
   "metadata": {
    "collapsed": true
   },
   "outputs": [],
   "source": []
  }
 ],
 "metadata": {
  "kernelspec": {
   "display_name": "Python 3",
   "language": "python",
   "name": "python3"
  },
  "language_info": {
   "codemirror_mode": {
    "name": "ipython",
    "version": 3
   },
   "file_extension": ".py",
   "mimetype": "text/x-python",
   "name": "python",
   "nbconvert_exporter": "python",
   "pygments_lexer": "ipython3",
   "version": "3.5.4"
  }
 },
 "nbformat": 4,
 "nbformat_minor": 2
}
