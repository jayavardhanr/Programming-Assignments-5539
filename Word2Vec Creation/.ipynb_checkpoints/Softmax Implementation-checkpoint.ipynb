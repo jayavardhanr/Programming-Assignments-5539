{
 "cells": [
  {
   "cell_type": "code",
   "execution_count": 2,
   "metadata": {
    "collapsed": true
   },
   "outputs": [],
   "source": [
    "import numpy as np"
   ]
  },
  {
   "cell_type": "code",
   "execution_count": 31,
   "metadata": {
    "collapsed": true
   },
   "outputs": [],
   "source": [
    "#For 2dimensional X"
   ]
  },
  {
   "cell_type": "code",
   "execution_count": 38,
   "metadata": {
    "collapsed": true
   },
   "outputs": [],
   "source": [
    "def softmax_2d(X,theta=1.0):\n",
    "    X=np.atleast_2d(X)\n",
    "    soft=np.empty(X.shape)\n",
    "    for l in range(X.shape[0]):\n",
    "        soft[l,:]=np.exp((X[l,:]-np.max(X[l,:]))*float(theta))\n",
    "        soft[l,:]/=np.sum(soft[l,:])\n",
    "    return soft"
   ]
  },
  {
   "cell_type": "code",
   "execution_count": 40,
   "metadata": {},
   "outputs": [
    {
     "data": {
      "text/plain": [
       "array([[  1.83097985e-03,   9.04548887e-02,   5.50056745e-03,\n",
       "          9.02213564e-01],\n",
       "       [  8.83996668e-02,   3.26045971e-03,   8.81714406e-01,\n",
       "          2.66254680e-02],\n",
       "       [  8.97468638e-04,   9.89295509e-03,   8.90535437e-01,\n",
       "          9.86741391e-02]])"
      ]
     },
     "execution_count": 40,
     "metadata": {},
     "output_type": "execute_result"
    }
   ],
   "source": [
    "X = np.array([\n",
    "    [1.1, 5.0, 2.2, 7.3],\n",
    "    [6.5, 3.2, 8.8, 5.3],\n",
    "    [2.7, 5.1, 9.6, 7.4],\n",
    "    ])\n",
    "softmax_2d(X,1.0)"
   ]
  },
  {
   "cell_type": "code",
   "execution_count": 41,
   "metadata": {
    "collapsed": true
   },
   "outputs": [],
   "source": [
    "#Verifying against Tensorflow API"
   ]
  },
  {
   "cell_type": "code",
   "execution_count": 42,
   "metadata": {},
   "outputs": [
    {
     "data": {
      "text/plain": [
       "array([[  1.83097985e-03,   9.04548887e-02,   5.50056745e-03,\n",
       "          9.02213564e-01],\n",
       "       [  8.83996668e-02,   3.26045971e-03,   8.81714406e-01,\n",
       "          2.66254680e-02],\n",
       "       [  8.97468638e-04,   9.89295509e-03,   8.90535437e-01,\n",
       "          9.86741391e-02]])"
      ]
     },
     "execution_count": 42,
     "metadata": {},
     "output_type": "execute_result"
    }
   ],
   "source": [
    "import tensorflow as tf\n",
    "session = tf.InteractiveSession()\n",
    "X=np.atleast_2d(X)\n",
    "y=tf.nn.softmax(X)\n",
    "session.run(y)"
   ]
  },
  {
   "cell_type": "code",
   "execution_count": null,
   "metadata": {
    "collapsed": true
   },
   "outputs": [],
   "source": []
  }
 ],
 "metadata": {
  "kernelspec": {
   "display_name": "Python 3",
   "language": "python",
   "name": "python3"
  },
  "language_info": {
   "codemirror_mode": {
    "name": "ipython",
    "version": 3
   },
   "file_extension": ".py",
   "mimetype": "text/x-python",
   "name": "python",
   "nbconvert_exporter": "python",
   "pygments_lexer": "ipython3",
   "version": "3.5.4"
  }
 },
 "nbformat": 4,
 "nbformat_minor": 2
}
