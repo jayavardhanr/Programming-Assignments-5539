{
 "cells": [
  {
   "cell_type": "code",
   "execution_count": 11,
   "metadata": {
    "collapsed": true
   },
   "outputs": [],
   "source": [
    "import random \n",
    "import numpy"
   ]
  },
  {
   "cell_type": "code",
   "execution_count": 12,
   "metadata": {
    "collapsed": true
   },
   "outputs": [],
   "source": [
    "def Relu(x):\n",
    "    if x>=0: return x\n",
    "    else: return 0\n",
    "    \n",
    "def DiffRelu(x):\n",
    "    '''Derivative of Relu'''\n",
    "    if x>=0: return 1\n",
    "    else: return 0"
   ]
  },
  {
   "cell_type": "code",
   "execution_count": 13,
   "metadata": {
    "collapsed": true
   },
   "outputs": [],
   "source": [
    "import numpy as np"
   ]
  },
  {
   "cell_type": "code",
   "execution_count": 10,
   "metadata": {},
   "outputs": [
    {
     "name": "stdout",
     "output_type": "stream",
     "text": [
      "[{'weights': [0.13436424411240122, 0.8474337369372327, 0.763774618976614]}]\n",
      "[{'weights': [0.2550690257394217, 0.49543508709194095]}, {'weights': [0.4494910647887381, 0.651592972722763]}]\n"
     ]
    }
   ],
   "source": [
    "class NeuralNetwork(object):\n",
    "    def __init__(self, input_layer, hidden, output):\n",
    "        '''\n",
    "        input: number of input neurons\n",
    "        hidden: number of hidden neurons\n",
    "        output: number of output neurons\n",
    "        '''\n",
    "        #total number of parameters for each node\n",
    "        #weights+bias\n",
    "        self.input_layer = input_layer + 1 \n",
    "        self.hidden = hidden\n",
    "        self.output = output\n",
    "        \n",
    "        #activation for each node in each Layer\n",
    "        self.ai = np.random.rand(self.input)\n",
    "        self.ah = np.random.rand(self.hidden)\n",
    "        self.ao = np.random.rand(self.output)\n",
    "        \n",
    "        # create randomized weights\n",
    "        self.wi = np.random.randn(self.input, self.hidden) \n",
    "        self.wo = np.random.randn(self.hidden, self.output)\n",
    "        \n",
    "        # create arrays of 0 for changes\n",
    "        self.ci = np.zeros((self.input, self.hidden))\n",
    "        self.co = np.zeros((self.hidden, self.output))"
   ]
  },
  {
   "cell_type": "code",
   "execution_count": null,
   "metadata": {
    "collapsed": true
   },
   "outputs": [],
   "source": []
  }
 ],
 "metadata": {
  "kernelspec": {
   "display_name": "Python 3",
   "language": "python",
   "name": "python3"
  },
  "language_info": {
   "codemirror_mode": {
    "name": "ipython",
    "version": 3
   },
   "file_extension": ".py",
   "mimetype": "text/x-python",
   "name": "python",
   "nbconvert_exporter": "python",
   "pygments_lexer": "ipython3",
   "version": "3.5.4"
  }
 },
 "nbformat": 4,
 "nbformat_minor": 2
}
